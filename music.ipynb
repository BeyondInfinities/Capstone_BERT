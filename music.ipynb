{
 "cells": [
  {
   "cell_type": "code",
   "execution_count": 5,
   "metadata": {},
   "outputs": [],
   "source": [
    "# Computes several statistics and provides some tools for the LFM-1b dataset of Last.fm listening histories.\n",
    "# Author: Markus Schedl\n",
    "\n",
    "import numpy as np\n",
    "import h5py\n",
    "from scipy import sparse\n",
    "\n",
    "UAM_MATLAB_FILE = 'LFM-1b_LEs.mat'                  # Matlab .mat file where the listening events are stored\n",
    "STATISTICS_OUTPUT_FILE = 'LFM-1b_stats_users.txt'         # output file for statistics\n",
    "\n",
    "# Read the user-artist-matrix and corresponding artist and user indices from Matlab file\n",
    "def read_UAM(m_file):\n",
    "    mf = h5py.File(m_file, 'r')\n",
    "    user_ids = np.array(mf.get('idx_users')).astype(np.int64)\n",
    "    artist_ids = np.array(mf.get('idx_artists')).astype(np.int64)\n",
    "    # Load UAM\n",
    "    UAM = sparse.csr_matrix((mf['/LEs/'][\"data\"],\n",
    "                             mf['/LEs/'][\"ir\"],\n",
    "                             mf['/LEs/'][\"jc\"])).transpose()    #.tocoo().transpose()\n",
    "    # user and artist indices to access UAM\n",
    "    UAM_user_idx = UAM.indices #UAM.row -> for COO matrix\n",
    "    UAM_artist_idx = UAM.indptr #UAM.col -> for COO matrix\n",
    "    return UAM, UAM_user_idx, UAM_artist_idx, user_ids, artist_ids\n"
   ]
  },
  {
   "cell_type": "code",
   "execution_count": null,
   "metadata": {},
   "outputs": [],
   "source": [
    "# Main program\n",
    "\n",
    "# Read UAM\n",
    "UAM, UAM_user_idx, UAM_artist_idx, user_ids, artist_ids = read_UAM(UAM_MATLAB_FILE)\n",
    "print ('Users: ', len(user_ids))\n",
    "print ('Artists: ', len(artist_ids))\n",
    "\n",
    "# Compute some basic statistics\n",
    "pc_sum = np.zeros((len(user_ids)), dtype=np.int32)              # to hold sum of playcounts, for all users\n",
    "pc_uniq_artists = np.zeros((len(user_ids)), dtype=np.int32)     # to hold number of unique artists listened to, for all users\n",
    "pc_mean = np.zeros((len(user_ids)), dtype=np.float32)            # to hold mean playcount per artist, for all users\n",
    "pc_median = np.zeros((len(user_ids)), dtype=np.float32)          # to hold median of playcount per artist, for all users\n",
    "pc_std = np.zeros((len(user_ids)), dtype=np.float32)             # to hold standard deviation of playcount per artist, for all users\n",
    "for i in range(0, len(user_ids)):\n",
    "    pc_i = UAM.getrow(i).toarray()                    # get playcount vector for user i\n",
    "    idx_nz = np.nonzero(pc_i)                         # indies of non-zero playcounts\n",
    "    pc_uniq_artists[i] = len(idx_nz[1])\n",
    "    pc_sum[i] = np.sum(pc_i[idx_nz])\n",
    "    pc_mean[i] = np.mean(pc_i[idx_nz])\n",
    "    pc_std[i] = np.std(pc_i[idx_nz])\n",
    "    pc_median[i] = np.median(pc_i[idx_nz])\n",
    "    print ('User ' + str(i) +    \"   Playcount: \" + str(pc_sum[i]) + \\\n",
    "                                \"   Unique artists: \" + str(pc_uniq_artists[i]) + \\\n",
    "                                \"   Mean PC/artist: \" + str(pc_mean[i]) + \\\n",
    "                                \"   Std. PC/artist: \" + str(pc_std[i]) + \\\n",
    "                                \"   Median PC/artist: \" + str(pc_median[i]))\n",
    "# Store to file\n",
    "np.savetxt(STATISTICS_OUTPUT_FILE, np.column_stack((pc_sum, pc_uniq_artists, pc_mean, pc_std, pc_median)), fmt=\"%.3f\")\n",
    "\n",
    "# Mean/std. of basic statistics\n",
    "print (\"Mean/std. of playcount: \" + str(np.mean(pc_sum)) + \" +- \" + str(np.std(pc_sum)))\n",
    "print (\"Mean/std. of unique artists: \" + str(np.mean(pc_uniq_artists)) + \" +- \" + str(np.std(pc_uniq_artists)))\n",
    "print (\"Mean/std. of mean PC/artist: \" + str(np.mean(pc_mean)) + \" +- \" + str(np.std(pc_mean)))\n",
    "print (\"Mean/std. of std. PC/artist: \" + str(np.mean(pc_std)) + \" +- \" + str(np.std(pc_std)))\n",
    "print (\"Mean/std. of median PC/artist: \" + str(np.mean(pc_median)) + \" +- \" + str(np.std(pc_median)))"
   ]
  },
  {
   "cell_type": "code",
   "execution_count": null,
   "metadata": {},
   "outputs": [],
   "source": []
  }
 ],
 "metadata": {
  "kernelspec": {
   "display_name": "Python 3.9.10 64-bit",
   "language": "python",
   "name": "python3"
  },
  "language_info": {
   "codemirror_mode": {
    "name": "ipython",
    "version": 3
   },
   "file_extension": ".py",
   "mimetype": "text/x-python",
   "name": "python",
   "nbconvert_exporter": "python",
   "pygments_lexer": "ipython3",
   "version": "3.10.8"
  },
  "orig_nbformat": 4,
  "vscode": {
   "interpreter": {
    "hash": "b0fa6594d8f4cbf19f97940f81e996739fb7646882a419484c72d19e05852a7e"
   }
  }
 },
 "nbformat": 4,
 "nbformat_minor": 2
}
