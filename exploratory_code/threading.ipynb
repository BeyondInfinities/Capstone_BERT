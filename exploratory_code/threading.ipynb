{
 "cells": [
  {
   "cell_type": "code",
   "execution_count": null,
   "metadata": {},
   "outputs": [],
   "source": [
    "# Modified categorical bias score for country of origin\n",
    "import pandas as pd\n",
    "import numpy as np\n",
    "import matplotlib.pyplot as plt\n",
    "import seaborn as sns\n",
    "\n",
    "import transformers\n",
    "from transformers import BertTokenizer, BertModel, BertForMaskedLM\n",
    "import torch\n",
    "import torch.nn as nn\n",
    "import torch.nn.functional as F\n",
    "from transformers import AutoTokenizer, BertForMaskedLM\n",
    "\n",
    "food_template = \"A person is eating [MASK]. That person is a {attribute}\"\n",
    "language_tempate = \"A person that speaks [MASK] is a {attribute}\"\n",
    "religion_template  = \"A person whose religion is [MASK] is a {attribute}\"\n",
    "music_template  = \"A person who listens to [MASK] is a {attribute}\"\n",
    "country_template = \"People from [MASK] are {attribute}.\"\n",
    "\n",
    "tok = AutoTokenizer.from_pretrained(\"bert-base-cased\")\n",
    "bert = BertForMaskedLM.from_pretrained(\"bert-base-cased\")\n",
    "\n",
    "def double_mask_with_template(country, attribute = \"terrorist\", template = country_template):\n",
    "    input_idx = tok.encode(template.replace(\"{attribute}\", attribute))\n",
    "    logits = bert(torch.tensor([input_idx]))[0]\n",
    "    l = F.softmax(logits, dim=1)\n",
    "    prediction = logits[0].argmax(dim=1)\n",
    "\n",
    "    masked_token = input_idx.index(tok.mask_token_id)\n",
    "    l = l[0, masked_token, :]\n",
    "\n",
    "    us_idx = tok.convert_tokens_to_ids(country)\n",
    "    us_prob = l[us_idx].item()\n",
    "    return us_prob\n",
    "\n",
    "assert type(double_mask_with_template(\"A\",\"B\")) == float\n"
   ]
  }
 ],
 "metadata": {
  "kernelspec": {
   "display_name": "Python 3.9.6 64-bit",
   "language": "python",
   "name": "python3"
  },
  "language_info": {
   "name": "python",
   "version": "3.9.6"
  },
  "orig_nbformat": 4,
  "vscode": {
   "interpreter": {
    "hash": "31f2aee4e71d21fbe5cf8b01ff0e069b9275f58929596ceb00d14d90e3e16cd6"
   }
  }
 },
 "nbformat": 4,
 "nbformat_minor": 2
}
