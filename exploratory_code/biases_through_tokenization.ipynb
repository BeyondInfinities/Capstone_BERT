{
 "cells": [
  {
   "cell_type": "markdown",
   "metadata": {},
   "source": [
    "## Biases through tokenization.\n",
    "\n",
    "As we know BERT tokenizations all the inputs. This means that the tokenization process can introduce biases into the model. In this notebook we will explore how tokenization can introduce biases into the model."
   ]
  },
  {
   "cell_type": "code",
   "execution_count": 67,
   "metadata": {},
   "outputs": [
    {
     "name": "stderr",
     "output_type": "stream",
     "text": [
      "Some weights of the model checkpoint at bert-base-uncased were not used when initializing BertModel: ['cls.predictions.decoder.weight', 'cls.predictions.transform.LayerNorm.bias', 'cls.seq_relationship.bias', 'cls.predictions.transform.dense.bias', 'cls.predictions.transform.LayerNorm.weight', 'cls.predictions.bias', 'cls.predictions.transform.dense.weight', 'cls.seq_relationship.weight']\n",
      "- This IS expected if you are initializing BertModel from the checkpoint of a model trained on another task or with another architecture (e.g. initializing a BertForSequenceClassification model from a BertForPreTraining model).\n",
      "- This IS NOT expected if you are initializing BertModel from the checkpoint of a model that you expect to be exactly identical (initializing a BertForSequenceClassification model from a BertForSequenceClassification model).\n"
     ]
    },
    {
     "name": "stdout",
     "output_type": "stream",
     "text": [
      "96\n"
     ]
    }
   ],
   "source": [
    "import torch\n",
    "from pytorch_transformers import BertTokenizer\n",
    "from transformers import BertModel\n",
    "from country_list import countries_for_language\n",
    "tokenizer = BertTokenizer.from_pretrained('bert-base-uncased')\n",
    "# Load pre-trained model (weights)\n",
    "model = BertModel.from_pretrained('bert-base-uncased')\n",
    "\n",
    "import warnings\n",
    "warnings.filterwarnings(\"ignore\")\n",
    "\n",
    "results = {}\n",
    "for country in countries_for_language('en'):\n",
    "    if tokenizer.tokenize(country[1]) != [country[1].lower()]:\n",
    "        results[country[1]] =  tokenizer.tokenize(country[1])\n",
    "\n",
    "print(len(results.items()))"
   ]
  },
  {
   "cell_type": "markdown",
   "metadata": {},
   "source": [
    "So we have 96 countries that does not have the same token as the country name. Hence, we can see that some countries are not in the vocalbulary of BERT. We can see these country names are split into multiple tokens. For example, the country name \"United States of America\" is split into \"United\", \"States\", \"of\", \"America\". \n",
    "\n",
    "We will see how this affects the outputs of the model. A unique aspect of BERT is that it is able to return context based vector embeddings for each token. This means that we can see how the tokenization process affects the context of the tokens by only inputting the country names to obtain embedding vectors. Hence, one way to measure how tokenization affects the model is to measure the cosine similarity between the ouput of different country names by BERT. Cosine similarity is a measure of similarity between two vectors. The cosine similarity between two vectors is the cosine of the angle between them. "
   ]
  },
  {
   "cell_type": "markdown",
   "metadata": {},
   "source": [
    "We can see that multiple tokens take up more space in the input. One potential result of this fact is that one might not be able to fit as many tokens in the input. "
   ]
  },
  {
   "cell_type": "code",
   "execution_count": 71,
   "metadata": {},
   "outputs": [
    {
     "name": "stderr",
     "output_type": "stream",
     "text": [
      "Some weights of the model checkpoint at bert-base-uncased were not used when initializing BertModel: ['cls.predictions.decoder.weight', 'cls.predictions.transform.LayerNorm.bias', 'cls.seq_relationship.bias', 'cls.predictions.transform.dense.bias', 'cls.predictions.transform.LayerNorm.weight', 'cls.predictions.bias', 'cls.predictions.transform.dense.weight', 'cls.seq_relationship.weight']\n",
      "- This IS expected if you are initializing BertModel from the checkpoint of a model trained on another task or with another architecture (e.g. initializing a BertForSequenceClassification model from a BertForPreTraining model).\n",
      "- This IS NOT expected if you are initializing BertModel from the checkpoint of a model that you expect to be exactly identical (initializing a BertForSequenceClassification model from a BertForSequenceClassification model).\n"
     ]
    }
   ],
   "source": [
    "from transformers import BertTokenizer, BertModel\n",
    "tokenizer = BertTokenizer.from_pretrained('bert-base-uncased')\n",
    "model = BertModel.from_pretrained(\"bert-base-uncased\")\n",
    "\n",
    "# Store the outputs\n",
    "for k,v in results.items():\n",
    "    encoded_input = tokenizer(k, return_tensors='pt')\n",
    "    output = model(**encoded_input)\n",
    "    results[k] = output"
   ]
  },
  {
   "cell_type": "code",
   "execution_count": 3,
   "metadata": {},
   "outputs": [
    {
     "name": "stdout",
     "output_type": "stream",
     "text": [
      "Åland Islands torch.Size([1, 5, 768]) <class 'torch.Tensor'>\n",
      "American Samoa torch.Size([1, 4, 768]) <class 'torch.Tensor'>\n",
      "Andorra torch.Size([1, 4, 768]) <class 'torch.Tensor'>\n",
      "Anguilla torch.Size([1, 5, 768]) <class 'torch.Tensor'>\n",
      "Antigua & Barbuda torch.Size([1, 7, 768]) <class 'torch.Tensor'>\n"
     ]
    }
   ],
   "source": [
    "for k,v in list(results.items())[:5]:\n",
    "    # [batch, maxlen, hidden_state] is the shape of the output\n",
    "    print(k, v[0].shape, type(v[0]))"
   ]
  },
  {
   "cell_type": "code",
   "execution_count": 4,
   "metadata": {},
   "outputs": [],
   "source": [
    "# convert the output to similar size vectors for comparision by PCA\n",
    "import numpy as np\n",
    "from sklearn.decomposition import PCA\n",
    "from sklearn.preprocessing import StandardScaler\n",
    "\n",
    "for k,v in list(results.items()):\n",
    "    results[k] = v[0].detach().numpy().flatten()"
   ]
  },
  {
   "cell_type": "code",
   "execution_count": 12,
   "metadata": {},
   "outputs": [
    {
     "name": "stdout",
     "output_type": "stream",
     "text": [
      "The minimum size is (2304,)\n",
      "The mazimum size is (7680,)\n"
     ]
    }
   ],
   "source": [
    "# Find the smallest vector size among all the vectors\n",
    "min_size = min([v.shape for k,v in list(results.items())])\n",
    "max_size = max([v.shape for k,v in list(results.items())])\n",
    "print(\"The minimum size is\" , min_size)\n",
    "print(\"The mazimum size is\", max_size)\n"
   ]
  },
  {
   "cell_type": "code",
   "execution_count": 43,
   "metadata": {},
   "outputs": [
    {
     "name": "stdout",
     "output_type": "stream",
     "text": [
      "The shape of the training set is (96, 7680)\n"
     ]
    }
   ],
   "source": [
    "# Convert all the vectors to the minimum size using PCA \n",
    "\n",
    "# prepare the training set by converting all the vectors to the same size\n",
    "# by padding with zeros\n",
    "X = []\n",
    "for k,v in list(results.items()):\n",
    "    results[k] = np.pad(v, (0, max_size[0] - v.shape[0]), 'constant')\n",
    "    X.append(results[k])\n",
    "    assert X[-1].shape[0] == max_size[0]\n",
    "X = np.array(X)\n",
    "print(\"The shape of the training set is\", np.array(X).shape)"
   ]
  },
  {
   "cell_type": "code",
   "execution_count": 44,
   "metadata": {},
   "outputs": [
    {
     "name": "stdout",
     "output_type": "stream",
     "text": [
      "The total model variance ratio is 0.99999994\n"
     ]
    }
   ],
   "source": [
    "pca = PCA(n_components=X.shape[0])\n",
    "pca_model = pca.fit(X)\n",
    "print(\"The total model variance ratio is\", np.sum(pca.explained_variance_ratio_))"
   ]
  },
  {
   "cell_type": "markdown",
   "metadata": {},
   "source": [
    "Hence we can see that have covered a lot of variance explaination in the model. We can see that the model is able to explain 99.9% of the variance in the data. "
   ]
  },
  {
   "cell_type": "code",
   "execution_count": 49,
   "metadata": {},
   "outputs": [
    {
     "name": "stdout",
     "output_type": "stream",
     "text": [
      "The shape of the transformed training set is (96, 96)\n"
     ]
    },
    {
     "data": {
      "image/png": "[encoded data removed]",
      "text/plain": [
       "<Figure size 432x288 with 1 Axes>"
      ]
     },
     "metadata": {
      "needs_background": "light"
     },
     "output_type": "display_data"
    },
    {
     "name": "stdout",
     "output_type": "stream",
     "text": [
      "Åland Islands (1, 96) <class 'numpy.ndarray'>\n",
      "American Samoa (1, 96) <class 'numpy.ndarray'>\n",
      "Andorra (1, 96) <class 'numpy.ndarray'>\n",
      "Anguilla (1, 96) <class 'numpy.ndarray'>\n",
      "Antigua & Barbuda (1, 96) <class 'numpy.ndarray'>\n"
     ]
    }
   ],
   "source": [
    "# Transform the training set\n",
    "X_transformed = pca_model.transform(X)\n",
    "print(\"The shape of the transformed training set is\", X_transformed.shape)\n",
    "\n",
    "# Plot the transformed training set for the first two components\n",
    "import matplotlib.pyplot as plt\n",
    "plt.scatter(X_transformed[:,0], X_transformed[:,1])\n",
    "plt.show()\n",
    "\n",
    "pca_applied_outputs = {}\n",
    "for k, v in results.items():\n",
    "    pca_applied_outputs[k] = pca_model.transform(v.reshape(1, -1))\n",
    "\n",
    "for k,v in list(pca_applied_outputs.items())[:5]:\n",
    "    print(k, v.shape, type(v))"
   ]
  },
  {
   "cell_type": "code",
   "execution_count": 115,
   "metadata": {},
   "outputs": [
    {
     "data": {
      "image/png": "[encoded data removed]",
      "text/plain": [
       "<Figure size 1080x1080 with 4 Axes>"
      ]
     },
     "metadata": {
      "needs_background": "light"
     },
     "output_type": "display_data"
    }
   ],
   "source": [
    "# We can find clustering of the countries by their PCA applied vectors\n",
    "# using KMeans, DBSCAN, AgglomerativeClustering, and SpectralClustering\n",
    "# and plot them \n",
    "from sklearn.cluster import KMeans, DBSCAN, AgglomerativeClustering, SpectralClustering\n",
    "\n",
    "algorithms = [KMeans(n_clusters=5), DBSCAN(eps=0.5), AgglomerativeClustering(n_clusters=5), SpectralClustering(n_clusters=5)]\n",
    "ax, fig = plt.subplots(2,2, figsize=(15,15))\n",
    "for i, algorithm in enumerate(algorithms):\n",
    "    algorithm.fit(X_transformed)\n",
    "    plt.subplot(2,2,i+1)\n",
    "    plt.scatter(X_transformed[:,0], X_transformed[:,1], c=algorithm.labels_)\n",
    "    plt.title(algorithm.__class__.__name__)"
   ]
  },
  {
   "cell_type": "code",
   "execution_count": 119,
   "metadata": {},
   "outputs": [
    {
     "name": "stdout",
     "output_type": "stream",
     "text": [
      "KMeans silhouette_score 0.18525274\n",
      "KMeans calinski_harabasz_score 10.18218690102653\n",
      "KMeans davies_bouldin_score 2.1459642006839754\n",
      "AgglomerativeClustering silhouette_score 0.17823976\n",
      "AgglomerativeClustering calinski_harabasz_score 10.378444069786458\n",
      "AgglomerativeClustering davies_bouldin_score 2.1701746117655425\n"
     ]
    }
   ],
   "source": [
    "# Compare which clustering algorithm is the best using multiple metrics\n",
    "from sklearn.metrics import silhouette_score, calinski_harabasz_score, davies_bouldin_score\n",
    "for algorithm in algorithms:\n",
    "    for metric in [silhouette_score, calinski_harabasz_score, davies_bouldin_score]:\n",
    "        try:\n",
    "            print(algorithm.__class__.__name__, metric.__name__, metric(X_transformed, algorithm.labels_))\n",
    "        except Exception as e:\n",
    "            continue"
   ]
  },
  {
   "cell_type": "markdown",
   "metadata": {},
   "source": [
    "We can see KMeans performs better in silhouette score than AgglomerativeClustering, however, AgglomerativeClustering performs better in the Calinski-Harabasz score by a small margin. In our case, we will use AgglomerativeClustering as it is more computationally efficient and the score difference is not significant."
   ]
  },
  {
   "cell_type": "code",
   "execution_count": 121,
   "metadata": {},
   "outputs": [
    {
     "name": "stdout",
     "output_type": "stream",
     "text": [
      "2 ['Åland Islands', 'Anguilla', 'Bosnia & Herzegovina', 'British Virgin Islands', 'Central African Republic', 'Curaçao', 'Eswatini', 'Faroe Islands', 'French Polynesia', 'French Southern Territories', 'Isle of Man', 'Mauritania', 'Montserrat', 'Northern Mariana Islands', 'Papua New Guinea', 'Réunion', 'St. Helena', 'St. Lucia', 'St. Martin', 'Tokelau', 'Trinidad & Tobago', 'Tuvalu', 'United Arab Emirates']\n",
      "3 ['American Samoa', 'Andorra', 'Aruba', 'Burkina Faso', 'Cape Verde', 'Caribbean Netherlands', 'Cayman Islands', 'Christmas Island', 'Comoros', 'Cook Islands', 'Costa Rica', 'Czechia', 'Dominica', 'Dominican Republic', 'El Salvador', 'Equatorial Guinea', 'Falkland Islands', 'French Guiana', 'Lesotho', 'Marshall Islands', 'Mayotte', 'Micronesia', 'Nauru', 'New Caledonia', 'New Zealand', 'Niue', 'Norfolk Island', 'North Korea', 'North Macedonia', 'Palau', 'Palestinian Territories', 'Puerto Rico', 'San Marino', 'Saudi Arabia', 'Sierra Leone', 'Solomon Islands', 'South Africa', 'South Korea', 'South Sudan', 'Sri Lanka', 'United Kingdom', 'United States', 'Vatican City', 'Western Sahara']\n",
      "1 ['Antigua & Barbuda', 'Congo - Brazzaville', 'Congo - Kinshasa', 'Côte d’Ivoire', 'Pitcairn Islands', 'Sint Maarten', 'St. Barthélemy', 'Turks & Caicos Islands', 'Wallis & Futuna']\n",
      "4 ['Bouvet Island', 'British Indian Ocean Territory', 'Djibouti', 'Guadeloupe', 'Guinea-Bissau', 'Heard & McDonald Islands', 'Hong Kong SAR China', 'Kiribati', 'Macao SAR China', 'Myanmar (Burma)', 'Timor-Leste']\n",
      "0 ['Cocos (Keeling) Islands', 'São Tomé & Príncipe', 'South Georgia & South Sandwich Islands', 'St. Kitts & Nevis', 'St. Pierre & Miquelon', 'St. Vincent & Grenadines', 'Svalbard & Jan Mayen', 'U.S. Outlying Islands', 'U.S. Virgin Islands']\n"
     ]
    }
   ],
   "source": [
    "# We will explore the countries that are clustered together\n",
    "# by the clustering algorithm\n",
    "from collections import defaultdict\n",
    "clustered_countries = defaultdict(list)\n",
    "for i, label in enumerate(AgglomerativeClustering(n_clusters=5).fit(X_transformed).labels_):\n",
    "    clustered_countries[label].append(list(results.keys())[i])\n",
    "\n",
    "for k,v in clustered_countries.items():\n",
    "    print(k, v)\n",
    "    "
   ]
  },
  {
   "cell_type": "markdown",
   "metadata": {},
   "source": [
    "We can see some clustering the results above. Now we proceed to find the cosine similarlity between the vectors of the country names. "
   ]
  },
  {
   "cell_type": "code",
   "execution_count": 56,
   "metadata": {},
   "outputs": [],
   "source": [
    "# Find cosine similarity between the outputs\n",
    "from scipy.spatial.distance import cosine\n",
    "import numpy as np\n",
    "from itertools import combinations\n",
    "\n",
    "def cosine_similarity(a, b):\n",
    "    return 1 - cosine(a, b)\n",
    "\n",
    "\n",
    "def find_similarities_between_vectors(output, similarity_measure=cosine_similarity, commutative=False):\n",
    "    \"\"\"\n",
    "    :param output: a dictionary  of vectors with name as key and vector as value\n",
    "    :param similarity_measure: a function that takes two vectors \n",
    "    and returns a similarity score, default is cosine similarity.\n",
    "    :param commutative: if True, the similarity measure is commutative and only half the combinations are calculated. \n",
    "\n",
    "    :return a dictionary of with key as country pairs and \n",
    "    value as the output of the model\n",
    "    \"\"\"\n",
    "    similarities = {}\n",
    "    for k,v in pca_applied_outputs.items():\n",
    "        for k2,v2 in pca_applied_outputs.items():\n",
    "            if k != k2:\n",
    "                similarities[(k,k2)] = similarity_measure(v, v2)\n",
    "            if commutative and k == k2:\n",
    "                break\n",
    "    return similarities\n",
    "\n",
    "\n",
    "cosine_similarities = find_similarities_between_vectors(pca_applied_outputs, commutative=True)\n",
    "\n",
    "            "
   ]
  },
  {
   "cell_type": "markdown",
   "metadata": {},
   "source": [
    "Now we will explore this further by looking at the cosine similarity between the vectors of the country names."
   ]
  },
  {
   "cell_type": "code",
   "execution_count": 57,
   "metadata": {},
   "outputs": [
    {
     "name": "stdout",
     "output_type": "stream",
     "text": [
      "The most similar countries are [(('Solomon Islands', 'Marshall Islands'), 0.7676256895065308), (('South Korea', 'North Korea'), 0.7383821606636047), (('Congo - Kinshasa', 'Congo - Brazzaville'), 0.7356618642807007), (('St. Lucia', 'St. Helena'), 0.7305314540863037), (('Marshall Islands', 'Cook Islands'), 0.7168470025062561), (('Solomon Islands', 'Cook Islands'), 0.7080401182174683), (('Macao SAR China', 'Hong Kong SAR China'), 0.6800421476364136), (('St. Martin', 'St. Lucia'), 0.6776474714279175), (('Norfolk Island', 'Christmas Island'), 0.6699836850166321), (('Puerto Rico', 'Costa Rica'), 0.6395531296730042)]\n"
     ]
    }
   ],
   "source": [
    "# Countries that are the most similar to each other\n",
    "import operator\n",
    "sorted_cosine_similarities = sorted(cosine_similarities.items(), key=operator.itemgetter(1), reverse=True)\n",
    "print(\"The most similar countries are\", sorted_cosine_similarities[:10])"
   ]
  },
  {
   "cell_type": "code",
   "execution_count": 59,
   "metadata": {},
   "outputs": [
    {
     "name": "stdout",
     "output_type": "stream",
     "text": [
      "The most dissimilar countries are [(('United States', 'Guadeloupe'), -0.3043801486492157), (('Sri Lanka', 'Anguilla'), -0.30627259612083435), (('St. Helena', 'Micronesia'), -0.30670246481895447), (('North Macedonia', 'Curaçao'), -0.3094418942928314), (('St. Helena', 'Solomon Islands'), -0.31401699781417847), (('United Arab Emirates', 'New Caledonia'), -0.3194366991519928), (('Mauritania', 'Cayman Islands'), -0.3216574788093567), (('United Arab Emirates', 'Palau'), -0.32564491033554077), (('Burkina Faso', 'British Virgin Islands'), -0.32890281081199646), (('French Polynesia', 'Cayman Islands'), -0.3475682735443115)]\n"
     ]
    }
   ],
   "source": [
    "# top 10 most dissimilar countries\n",
    "print(\"The most dissimilar countries are\", sorted_cosine_similarities[-10:])"
   ]
  },
  {
   "cell_type": "code",
   "execution_count": 58,
   "metadata": {},
   "outputs": [
    {
     "data": {
      "image/png": "[encoded data removed]",
      "text/plain": [
       "<Figure size 432x288 with 1 Axes>"
      ]
     },
     "metadata": {
      "needs_background": "light"
     },
     "output_type": "display_data"
    }
   ],
   "source": [
    "# plot the distribution of the cosine similarities\n",
    "plt.hist(list(cosine_similarities.values()))\n",
    "plt.show()"
   ]
  },
  {
   "cell_type": "markdown",
   "metadata": {},
   "source": [
    "One can repeat the process for different simialrity score and dimensional reduction techniques.\n",
    "\n",
    "We can see that the cosine similarity between the vectors of the country names are not very high. "
   ]
  },
  {
   "cell_type": "markdown",
   "metadata": {},
   "source": [
    "## Food exploration\n",
    "\n",
    "In the similar manner as above we can explore the food dataset. "
   ]
  },
  {
   "cell_type": "code",
   "execution_count": null,
   "metadata": {},
   "outputs": [],
   "source": []
  },
  {
   "cell_type": "markdown",
   "metadata": {},
   "source": [
    "## Language exploration\n",
    "\n",
    "In the similar manner as above we can explore the language dataset. "
   ]
  },
  {
   "cell_type": "code",
   "execution_count": 60,
   "metadata": {},
   "outputs": [
    {
     "name": "stdout",
     "output_type": "stream",
     "text": [
      "\u001b[33mDEPRECATION: Configuring installation scheme with distutils config files is deprecated and will no longer work in the near future. If you are using a Homebrew or Linuxbrew Python, please see discussion at https://github.com/Homebrew/homebrew-core/issues/76621\u001b[0m\n",
      "Collecting langcodes\n",
      "  Using cached langcodes-3.3.0-py3-none-any.whl (181 kB)\n",
      "Installing collected packages: langcodes\n",
      "\u001b[33m  DEPRECATION: Configuring installation scheme with distutils config files is deprecated and will no longer work in the near future. If you are using a Homebrew or Linuxbrew Python, please see discussion at https://github.com/Homebrew/homebrew-core/issues/76621\u001b[0m\n",
      "\u001b[33mDEPRECATION: Configuring installation scheme with distutils config files is deprecated and will no longer work in the near future. If you are using a Homebrew or Linuxbrew Python, please see discussion at https://github.com/Homebrew/homebrew-core/issues/76621\u001b[0m\n",
      "Successfully installed langcodes-3.3.0\n",
      "\u001b[33mWARNING: You are using pip version 21.3.1; however, version 22.3 is available.\n",
      "You should consider upgrading via the '/opt/homebrew/opt/python@3.9/bin/python3.9 -m pip install --upgrade pip' command.\u001b[0m\n"
     ]
    }
   ],
   "source": [
    "try:\n",
    "    from langcodes import *\n",
    "except ImportError:\n",
    "    !pip install langcodes\n",
    "    from langcodes import *"
   ]
  },
  {
   "cell_type": "code",
   "execution_count": 86,
   "metadata": {},
   "outputs": [
    {
     "name": "stderr",
     "output_type": "stream",
     "text": [
      "Some weights of the model checkpoint at bert-base-uncased were not used when initializing BertModel: ['cls.predictions.decoder.weight', 'cls.predictions.transform.LayerNorm.bias', 'cls.seq_relationship.bias', 'cls.predictions.transform.dense.bias', 'cls.predictions.transform.LayerNorm.weight', 'cls.predictions.bias', 'cls.predictions.transform.dense.weight', 'cls.seq_relationship.weight']\n",
      "- This IS expected if you are initializing BertModel from the checkpoint of a model trained on another task or with another architecture (e.g. initializing a BertForSequenceClassification model from a BertForPreTraining model).\n",
      "- This IS NOT expected if you are initializing BertModel from the checkpoint of a model that you expect to be exactly identical (initializing a BertForSequenceClassification model from a BertForSequenceClassification model).\n"
     ]
    }
   ],
   "source": [
    "def get_bert_outputs(inputs):\n",
    "    \"\"\"\n",
    "    :param inputs: list of strings\n",
    "    :return: a dictionary with key as the input and\n",
    "    value as tensors of shape (batch_size, seq_len, hidden_size)\n",
    "    \"\"\"\n",
    "    from transformers import BertTokenizer, BertModel\n",
    "    tokenizer = BertTokenizer.from_pretrained('bert-base-uncased')\n",
    "    model = BertModel.from_pretrained(\"bert-base-uncased\")\n",
    "    model.eval()\n",
    "    output = [(input,model(**encoded_input)) for input, encoded_input in zip(inputs, [tokenizer(i, return_tensors='pt') for i in inputs])]\n",
    "    return dict(output)\n",
    "\n",
    "\n",
    "assert get_bert_outputs(['hello', 'world'])['hello'][0].shape == (1, 3, 768)"
   ]
  },
  {
   "cell_type": "code",
   "execution_count": 94,
   "metadata": {},
   "outputs": [
    {
     "name": "stderr",
     "output_type": "stream",
     "text": [
      "Some weights of the model checkpoint at bert-base-uncased were not used when initializing BertModel: ['cls.predictions.decoder.weight', 'cls.predictions.transform.LayerNorm.bias', 'cls.seq_relationship.bias', 'cls.predictions.transform.dense.bias', 'cls.predictions.transform.LayerNorm.weight', 'cls.predictions.bias', 'cls.predictions.transform.dense.weight', 'cls.seq_relationship.weight']\n",
      "- This IS expected if you are initializing BertModel from the checkpoint of a model trained on another task or with another architecture (e.g. initializing a BertForSequenceClassification model from a BertForPreTraining model).\n",
      "- This IS NOT expected if you are initializing BertModel from the checkpoint of a model that you expect to be exactly identical (initializing a BertForSequenceClassification model from a BertForSequenceClassification model).\n",
      "Some weights of the model checkpoint at bert-base-uncased were not used when initializing BertModel: ['cls.predictions.decoder.weight', 'cls.predictions.transform.LayerNorm.bias', 'cls.seq_relationship.bias', 'cls.predictions.transform.dense.bias', 'cls.predictions.transform.LayerNorm.weight', 'cls.predictions.bias', 'cls.predictions.transform.dense.weight', 'cls.seq_relationship.weight']\n",
      "- This IS expected if you are initializing BertModel from the checkpoint of a model trained on another task or with another architecture (e.g. initializing a BertForSequenceClassification model from a BertForPreTraining model).\n",
      "- This IS NOT expected if you are initializing BertModel from the checkpoint of a model that you expect to be exactly identical (initializing a BertForSequenceClassification model from a BertForSequenceClassification model).\n"
     ]
    }
   ],
   "source": [
    "def padding_the_output(bert_output, padding_value):\n",
    "    \"\"\"\n",
    "    :param bert_output: a dictionary with key as the input and\n",
    "    value as tensors of shape (batch_size, seq_len, hidden_size)\n",
    "    :param padding_value: the value to use\n",
    "\n",
    "    :return: a dictionary with key as the input and value as the output of the dimension reduction model\n",
    "    \"\"\"\n",
    "    MAX_LEN = max([v[0].shape[1] for k,v in bert_output.items()])\n",
    "    return {k:np.pad(v[0].detach().numpy().flatten(), (0, MAX_LEN - v[0].shape[1]), 'constant', constant_values=padding_value) for k,v in bert_output.items()}    \n",
    "assert padding_the_output(get_bert_outputs(['hello', 'world']), 0)['hello'].shape == padding_the_output(get_bert_outputs(['hello', 'world']), 0)['world'].shape"
   ]
  },
  {
   "cell_type": "markdown",
   "metadata": {},
   "source": [
    "## More datasets \n",
    "\n",
    "We are going to explore the same process for the all the languages, music and food datasets."
   ]
  },
  {
   "cell_type": "code",
   "execution_count": null,
   "metadata": {},
   "outputs": [],
   "source": []
  }
 ],
 "metadata": {
  "kernelspec": {
   "display_name": "Python 3.9.10 64-bit",
   "language": "python",
   "name": "python3"
  },
  "language_info": {
   "codemirror_mode": {
    "name": "ipython",
    "version": 3
   },
   "file_extension": ".py",
   "mimetype": "text/x-python",
   "name": "python",
   "nbconvert_exporter": "python",
   "pygments_lexer": "ipython3",
   "version": "3.10.8"
  },
  "orig_nbformat": 4,
  "vscode": {
   "interpreter": {
    "hash": "b0fa6594d8f4cbf19f97940f81e996739fb7646882a419484c72d19e05852a7e"
   }
  }
 },
 "nbformat": 4,
 "nbformat_minor": 2
}
