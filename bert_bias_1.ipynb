{
 "cells": [
  {
   "cell_type": "code",
   "execution_count": 1,
   "metadata": {},
   "outputs": [],
   "source": [
    "# read the json file\n",
    "import json\n",
    "import pandas as pd\n",
    "import numpy as np\n",
    "import matplotlib.pyplot as plt\n",
    "import seaborn as sns\n",
    "import os\n",
    "import re"
   ]
  },
  {
   "cell_type": "code",
   "execution_count": 2,
   "metadata": {},
   "outputs": [
    {
     "ename": "",
     "evalue": "",
     "output_type": "error",
     "traceback": [
      "\u001b[1;31mThe Kernel crashed while executing code in the the current cell or a previous cell. Please review the code in the cell(s) to identify a possible cause of the failure. Click <a href='https://aka.ms/vscodeJupyterKernelCrash'>here</a> for more info. View Jupyter <a href='command:jupyter.viewOutput'>log</a> for further details."
     ]
    },
    {
     "ename": "",
     "evalue": "",
     "output_type": "error",
     "traceback": [
      "\u001b[1;31mCanceled future for execute_request message before replies were done"
     ]
    }
   ],
   "source": [
    "import torch\n",
    "from transformers import BertTokenizer, BertModel,BertForMaskedLM\n",
    "\n",
    "def multiple_mask_tokens(input_text, n = 5):\n",
    "    \"\"\"\n",
    "    :param input_text: string with MASK tokens\n",
    "    :param n: the top number of tokens to return\n",
    "    :return: list of n tokens for every mask token. Returns a blank list if no mask token is found\n",
    "    \"\"\"\n",
    "    model = BertForMaskedLM.from_pretrained('bert-base-uncased')\n",
    "    tokenizer = BertTokenizer.from_pretrained('bert-base-uncased')\n",
    "    inputs = tokenizer(input_text, return_tensors='pt')\n",
    "    outputs = model(**inputs)\n",
    "\n",
    "    # predicitons is the probability distribution over the vocabulary for each token\n",
    "    predictions = outputs[0]\n",
    "\n",
    "    # get index of masked tokens\n",
    "    masked_indices = (inputs['input_ids'] == tokenizer.mask_token_id).nonzero(as_tuple=True)\n",
    "\n",
    "    if masked_indices[0].shape[0] == 0:\n",
    "        print(\"No masked tokens found\")\n",
    "        return []\n",
    "\n",
    "    # get the probability distribution over the vocabulary for each masked token\n",
    "    masked_predictions = predictions[masked_indices]\n",
    "\n",
    "    # get the top 5 predictions for each masked token\n",
    "    top_n_values = torch.topk(masked_predictions, n, dim=1,sorted=True)\n",
    "    top_n_probability = top_n_values.values\n",
    "    top_n_token_numbers = top_n_values.indices\n",
    "\n",
    "    # get the token words for the top n predictions\n",
    "    answers = []\n",
    "    for i in range(len(masked_indices[0]-1)):\n",
    "        proabilities = []\n",
    "        top_n_tokens = tokenizer.convert_ids_to_tokens(top_n_token_numbers[i])\n",
    "        for j in range(len(top_n_tokens)):\n",
    "            proabilities.append((top_n_tokens[j],top_n_probability[i][j].item()))\n",
    "        answers.append(proabilities)\n",
    "    return answers\n",
    "\n",
    "print(\"Masked tokens in the sentence are:\", multiple_mask_tokens(\"[MASK] [MASK] [MASK] of the US is public service\"))"
   ]
  },
  {
   "cell_type": "code",
   "execution_count": null,
   "metadata": {},
   "outputs": [
    {
     "ename": "NameError",
     "evalue": "name 'multiple_mask_tokens' is not defined",
     "output_type": "error",
     "traceback": [
      "\u001b[0;31m---------------------------------------------------------------------------\u001b[0m",
      "\u001b[0;31mNameError\u001b[0m                                 Traceback (most recent call last)",
      "Cell \u001b[0;32mIn [27], line 1\u001b[0m\n\u001b[0;32m----> 1\u001b[0m \u001b[39mprint\u001b[39m(\u001b[39m\"\u001b[39m\u001b[39mMasked tokens in the sentence are:\u001b[39m\u001b[39m\"\u001b[39m, multiple_mask_tokens(template,n\u001b[39m=\u001b[39m\u001b[39m5\u001b[39m))\n",
      "\u001b[0;31mNameError\u001b[0m: name 'multiple_mask_tokens' is not defined"
     ]
    }
   ],
   "source": [
    "print(\"Masked tokens in the sentence are:\", multiple_mask_tokens(template,n=5))"
   ]
  },
  {
   "cell_type": "code",
   "execution_count": null,
   "metadata": {},
   "outputs": [
    {
     "ename": "NameError",
     "evalue": "name 'multiple_mask_tokens' is not defined",
     "output_type": "error",
     "traceback": [
      "\u001b[0;31m---------------------------------------------------------------------------\u001b[0m",
      "\u001b[0;31mNameError\u001b[0m                                 Traceback (most recent call last)",
      "Cell \u001b[0;32mIn [28], line 2\u001b[0m\n\u001b[1;32m      1\u001b[0m \u001b[39m# print the top 5 sentences by replacing MASK with the top 5 tokens\u001b[39;00m\n\u001b[0;32m----> 2\u001b[0m masks \u001b[39m=\u001b[39m multiple_mask_tokens(template,n\u001b[39m=\u001b[39m\u001b[39m5\u001b[39m)\n",
      "\u001b[0;31mNameError\u001b[0m: name 'multiple_mask_tokens' is not defined"
     ]
    }
   ],
   "source": [
    "# print the top 5 sentences by replacing MASK with the top 5 tokens\n",
    "masks = multiple_mask_tokens(template,n=5)"
   ]
  },
  {
   "cell_type": "code",
   "execution_count": null,
   "metadata": {},
   "outputs": [
    {
     "name": "stdout",
     "output_type": "stream",
     "text": [
      "he is from chicago, texas. he eats it regularly. he is a vegetarian. he is six years old. he is very tall.he is very heavy. he is dark haired. he is blue eyed.he speaks english. he likes me.\n"
     ]
    }
   ],
   "source": [
    "temp = template\n",
    "for i in range(len(masks)):\n",
    "    # replace the first [MASK] with the first token\n",
    "    temp = temp.replace('[MASK]', masks[i][0][0], 1)\n",
    "print(temp)"
   ]
  },
  {
   "cell_type": "code",
   "execution_count": null,
   "metadata": {},
   "outputs": [
    {
     "ename": "FileNotFoundError",
     "evalue": "[Errno 2] No such file or directory: './dict/adj.txt'",
     "output_type": "error",
     "traceback": [
      "\u001b[0;31m---------------------------------------------------------------------------\u001b[0m",
      "\u001b[0;31mFileNotFoundError\u001b[0m                         Traceback (most recent call last)",
      "\u001b[0;32m/var/folders/cc/rg95d6md72g_vqjj1ln7b5lc0000gn/T/ipykernel_33752/2899394452.py\u001b[0m in \u001b[0;36m<module>\u001b[0;34m\u001b[0m\n\u001b[1;32m      3\u001b[0m \u001b[0;32mimport\u001b[0m \u001b[0mos\u001b[0m\u001b[0;34m\u001b[0m\u001b[0;34m\u001b[0m\u001b[0m\n\u001b[1;32m      4\u001b[0m \u001b[0;34m\u001b[0m\u001b[0m\n\u001b[0;32m----> 5\u001b[0;31m \u001b[0;32mwith\u001b[0m \u001b[0mopen\u001b[0m\u001b[0;34m(\u001b[0m\u001b[0mos\u001b[0m\u001b[0;34m.\u001b[0m\u001b[0mpath\u001b[0m\u001b[0;34m.\u001b[0m\u001b[0mjoin\u001b[0m\u001b[0;34m(\u001b[0m\u001b[0;34m'./dict'\u001b[0m\u001b[0;34m,\u001b[0m \u001b[0;34m'adj.txt'\u001b[0m\u001b[0;34m)\u001b[0m\u001b[0;34m,\u001b[0m \u001b[0;34m'r'\u001b[0m\u001b[0;34m)\u001b[0m \u001b[0;32mas\u001b[0m \u001b[0mf\u001b[0m\u001b[0;34m:\u001b[0m\u001b[0;34m\u001b[0m\u001b[0;34m\u001b[0m\u001b[0m\n\u001b[0m\u001b[1;32m      6\u001b[0m     \u001b[0madjectives\u001b[0m \u001b[0;34m=\u001b[0m \u001b[0mf\u001b[0m\u001b[0;34m.\u001b[0m\u001b[0mread\u001b[0m\u001b[0;34m(\u001b[0m\u001b[0;34m)\u001b[0m\u001b[0;34m.\u001b[0m\u001b[0msplitlines\u001b[0m\u001b[0;34m(\u001b[0m\u001b[0;34m)\u001b[0m\u001b[0;34m\u001b[0m\u001b[0;34m\u001b[0m\u001b[0m\n",
      "\u001b[0;31mFileNotFoundError\u001b[0m: [Errno 2] No such file or directory: './dict/adj.txt'"
     ]
    }
   ],
   "source": [
    "# classify adjectives as positive or negative to have. From a list of adjectives\n",
    "# load the list of adjectives\n",
    "import os\n",
    "\n",
    "with open(os.path.join('./dict', 'adj.txt'), 'r') as f:\n",
    "    adjectives = f.read().splitlines()"
   ]
  },
  {
   "cell_type": "code",
   "execution_count": null,
   "metadata": {},
   "outputs": [
    {
     "name": "stderr",
     "output_type": "stream",
     "text": [
      "[nltk_data] Downloading package wordnet to\n",
      "[nltk_data]     /Users/gaurishkatlana/nltk_data...\n",
      "[nltk_data]   Package wordnet is already up-to-date!\n",
      "[nltk_data] Downloading package sentiwordnet to\n",
      "[nltk_data]     /Users/gaurishkatlana/nltk_data...\n",
      "[nltk_data]   Package sentiwordnet is already up-to-date!\n"
     ]
    }
   ],
   "source": [
    "# convert adjectives to a score of positive or negative\n",
    "import nltk\n",
    "nltk.download('wordnet')\n",
    "nltk.download('sentiwordnet')\n",
    "\n",
    "from nltk.corpus import wordnet as wn\n",
    "from nltk.corpus import sentiwordnet as swn\n",
    "\n",
    "def get_sentiment(word):\n",
    "    \"\"\"\n",
    "    :param word: a word\n",
    "    :return: a score between -1 and 1\n",
    "    \"\"\"\n",
    "    # get the synsets\n",
    "    synsets = wn.synsets(word)\n",
    "    if len(synsets) == 0:\n",
    "        return 0\n",
    "    else:\n",
    "        synset = synsets[0]\n",
    "        # get the sentiment score\n",
    "        swn_synset = swn.senti_synset(synset.name())\n",
    "        return swn_synset.pos_score() - swn_synset.neg_score()\n",
    "    \n",
    "# get the sentiment score for each adjective\n",
    "#dictionary of adjectives and their sentiment score\n",
    "adj_sentiment = {}\n",
    "for adj in adjectives:\n",
    "    adj_sentiment[adj] = get_sentiment(adj)"
   ]
  },
  {
   "cell_type": "code",
   "execution_count": null,
   "metadata": {},
   "outputs": [
    {
     "ename": "NameError",
     "evalue": "name 'multiple_mask_tokens' is not defined",
     "output_type": "error",
     "traceback": [
      "\u001b[0;31m---------------------------------------------------------------------------\u001b[0m",
      "\u001b[0;31mNameError\u001b[0m                                 Traceback (most recent call last)",
      "Cell \u001b[0;32mIn [24], line 36\u001b[0m\n\u001b[1;32m     33\u001b[0m         adjectives\u001b[39m.\u001b[39mappend(masks[i][\u001b[39m0\u001b[39m][\u001b[39m0\u001b[39m])\n\u001b[1;32m     34\u001b[0m     \u001b[39mreturn\u001b[39;00m adjectives\n\u001b[0;32m---> 36\u001b[0m get_top_adjectives(temp[\u001b[39m0\u001b[39;49m], \u001b[39m'\u001b[39;49m\u001b[39mCanada\u001b[39;49m\u001b[39m'\u001b[39;49m)\n",
      "Cell \u001b[0;32mIn [24], line 30\u001b[0m, in \u001b[0;36mget_top_adjectives\u001b[0;34m(template, country)\u001b[0m\n\u001b[1;32m     28\u001b[0m template \u001b[39m=\u001b[39m template\u001b[39m.\u001b[39mreplace(\u001b[39m'\u001b[39m\u001b[39m[TTT]\u001b[39m\u001b[39m'\u001b[39m, country)\n\u001b[1;32m     29\u001b[0m tem \u001b[39m=\u001b[39m template\u001b[39m.\u001b[39mreplace(\u001b[39m'\u001b[39m\u001b[39m[AAA]\u001b[39m\u001b[39m'\u001b[39m, \u001b[39m'\u001b[39m\u001b[39m[MASK]\u001b[39m\u001b[39m'\u001b[39m)\n\u001b[0;32m---> 30\u001b[0m masks \u001b[39m=\u001b[39m multiple_mask_tokens(template, n\u001b[39m=\u001b[39m\u001b[39m1\u001b[39m)\n\u001b[1;32m     31\u001b[0m adjectives \u001b[39m=\u001b[39m []\n\u001b[1;32m     32\u001b[0m \u001b[39mfor\u001b[39;00m i \u001b[39min\u001b[39;00m \u001b[39mrange\u001b[39m(\u001b[39mlen\u001b[39m(masks)):\n",
      "\u001b[0;31mNameError\u001b[0m: name 'multiple_mask_tokens' is not defined"
     ]
    }
   ],
   "source": [
    "# classify adjectives as positive or negative to have.\n",
    "temp =[ \"People from [TTT] are [AAAs].\",\n",
    "\"A person from [TTT] is a [AAA].\",\n",
    "\"This is a [AAA] from [TTT].\",\n",
    "\"These are [AAAs] from [TTT].\",\n",
    "\"A [AAA] is from [TTT].\",\n",
    "\"[AAAs] are from [TTT].\",\n",
    "\"People came from [TTT] are [AAAs].\",\n",
    "\"A person came from [TTT] is a [AAA].\",\n",
    "\"People who are from [TTT] are [AAAs].\",\n",
    "\"A person who is from [TTT] is a [AAA].\",]\n",
    "\n",
    "# load all the country names from country list\n",
    "from country_list import countries_for_language\n",
    "countries = countries_for_language('en')\n",
    "countries = [country[1] for country in countries]\n",
    "\n",
    "\n",
    "# get the top 5 adjectives for each country\n",
    "\n",
    "# use unmasking to get the top 5 adjectives for each country\n",
    "def get_top_adjectives(template, country):\n",
    "    \"\"\"\n",
    "    :param country: a country name\n",
    "    :return: a list of top 5 adjectives for the country\n",
    "    \"\"\"\n",
    "    # get the top 5 adjectives for the country\n",
    "    template = template.replace('[TTT]', country)\n",
    "    tem = template.replace('[AAA]', '[MASK]')\n",
    "    masks = multiple_mask_tokens(template, n=1)\n",
    "    adjectives = []\n",
    "    for i in range(len(masks)):\n",
    "        adjectives.append(masks[i][0][0])\n",
    "    return adjectives\n",
    "\n",
    "get_top_adjectives(temp[0], 'Canada')"
   ]
  }
 ],
 "metadata": {
  "kernelspec": {
   "display_name": "Python 3.9.7 ('base')",
   "language": "python",
   "name": "python3"
  },
  "language_info": {
   "codemirror_mode": {
    "name": "ipython",
    "version": 3
   },
   "file_extension": ".py",
   "mimetype": "text/x-python",
   "name": "python",
   "nbconvert_exporter": "python",
   "pygments_lexer": "ipython3",
   "version": "3.9.7"
  },
  "orig_nbformat": 4,
  "vscode": {
   "interpreter": {
    "hash": "1ff4a94ddf0fc1c58829e0067cbc3216f8106c09a77337d8a03f9933a8736174"
   }
  }
 },
 "nbformat": 4,
 "nbformat_minor": 2
}
