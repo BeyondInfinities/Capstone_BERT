{
 "cells": [
  {
   "cell_type": "code",
   "execution_count": 41,
   "metadata": {},
   "outputs": [
    {
     "name": "stderr",
     "output_type": "stream",
     "text": [
      "Some weights of the model checkpoint at bert-base-uncased were not used when initializing BertForMaskedLM: ['cls.seq_relationship.bias', 'cls.seq_relationship.weight']\n",
      "- This IS expected if you are initializing BertForMaskedLM from the checkpoint of a model trained on another task or with another architecture (e.g. initializing a BertForSequenceClassification model from a BertForPreTraining model).\n",
      "- This IS NOT expected if you are initializing BertForMaskedLM from the checkpoint of a model that you expect to be exactly identical (initializing a BertForSequenceClassification model from a BertForSequenceClassification model).\n"
     ]
    },
    {
     "name": "stdout",
     "output_type": "stream",
     "text": [
      "Masked tokens in the sentence are: [[('the', 10.744735717773438), ('a', 6.8373260498046875), ('all', 6.063361167907715), ('one', 5.773168087005615), ('another', 5.709738731384277)], [('federal', 6.544925212860107), ('national', 6.397103786468506), ('the', 6.17555570602417), ('first', 6.027252197265625), ('other', 5.97396183013916)], [('state', 7.726027965545654), ('policy', 7.337986946105957), ('government', 7.20404577255249), ('department', 6.940457344055176), ('part', 6.6692962646484375)]]\n"
     ]
    }
   ],
   "source": [
    "import torch\n",
    "from transformers import BertTokenizer, BertModel,BertForMaskedLM\n",
    "\n",
    "def multiple_mask_tokens(input_text, n = 5):\n",
    "    \"\"\"\n",
    "    :param input_text: string with MASK tokens\n",
    "    :param n: the top number of tokens to return\n",
    "    :return: list of n tokens for every mask token. Returns a blank list if no mask token is found\n",
    "    \"\"\"\n",
    "    model = BertForMaskedLM.from_pretrained('bert-base-uncased')\n",
    "    tokenizer = BertTokenizer.from_pretrained('bert-base-uncased')\n",
    "    inputs = tokenizer(input_text, return_tensors='pt')\n",
    "    outputs = model(**inputs)\n",
    "\n",
    "    # predicitons is the probability distribution over the vocabulary for each token\n",
    "    predictions = outputs[0]\n",
    "\n",
    "    # get index of masked tokens\n",
    "    masked_indices = (inputs['input_ids'] == tokenizer.mask_token_id).nonzero(as_tuple=True)\n",
    "\n",
    "    if masked_indices[0].shape[0] == 0:\n",
    "        print(\"No masked tokens found\")\n",
    "        return []\n",
    "\n",
    "    # get the probability distribution over the vocabulary for each masked token\n",
    "    masked_predictions = predictions[masked_indices]\n",
    "\n",
    "    # get the top 5 predictions for each masked token\n",
    "    top_n_values = torch.topk(masked_predictions, n, dim=1,sorted=True)\n",
    "    top_n_probability = top_n_values.values\n",
    "    top_n_token_numbers = top_n_values.indices\n",
    "\n",
    "    # get the token words for the top n predictions\n",
    "    answers = []\n",
    "    for i in range(len(masked_indices[0]-1)):\n",
    "        proabilities = []\n",
    "        top_n_tokens = tokenizer.convert_ids_to_tokens(top_n_token_numbers[i])\n",
    "        for j in range(len(top_n_tokens)):\n",
    "            proabilities.append((top_n_tokens[j],top_n_probability[i][j].item()))\n",
    "        answers.append(proabilities)\n",
    "    return answers\n",
    "\n",
    "print(\"Masked tokens in the sentence are:\", multiple_mask_tokens(\"[MASK] [MASK] [MASK] of the US is public service\"))"
   ]
  },
  {
   "cell_type": "code",
   "execution_count": null,
   "metadata": {},
   "outputs": [],
   "source": []
  }
 ],
 "metadata": {
  "kernelspec": {
   "display_name": "Python 3.9.10 64-bit",
   "language": "python",
   "name": "python3"
  },
  "language_info": {
   "codemirror_mode": {
    "name": "ipython",
    "version": 3
   },
   "file_extension": ".py",
   "mimetype": "text/x-python",
   "name": "python",
   "nbconvert_exporter": "python",
   "pygments_lexer": "ipython3",
   "version": "3.10.8"
  },
  "orig_nbformat": 4,
  "vscode": {
   "interpreter": {
    "hash": "b0fa6594d8f4cbf19f97940f81e996739fb7646882a419484c72d19e05852a7e"
   }
  }
 },
 "nbformat": 4,
 "nbformat_minor": 2
}
