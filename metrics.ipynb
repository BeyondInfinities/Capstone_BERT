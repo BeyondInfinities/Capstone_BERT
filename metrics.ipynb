{
 "cells": [
  {
   "cell_type": "markdown",
   "metadata": {},
   "source": [
    "# Creating Metrics for measuring biases \n",
    "\n",
    "1. Fairness Through Awareness\n",
    "    1. Individual fairness\n",
    "    2. Group fairness"
   ]
  },
  {
   "cell_type": "code",
   "execution_count": null,
   "metadata": {},
   "outputs": [],
   "source": [
    "from functools import cache\n",
    "\n",
    "@cache\n",
    "def individual_fairness(x,y,mapping,norm=1):\n",
    "    \"\"\"\n",
    "    inputs:\n",
    "        x: numpy array\n",
    "        y: numpy array\n",
    "        mapping: a callable that returns a numeric value\n",
    "        norm: the norm to use for the distance metric\n",
    "    output:\n",
    "        D(m(x),m(y)) <= d(x,y)\n",
    "    \"\"\"\n",
    "    import numpy as np\n",
    "    xmapping = mapping(x)\n",
    "    ymapping = mapping(y)\n",
    "    return np.linalg.norm(xmapping-ymapping,norm) <= np.linalg.norm(x-y,norm)\n",
    "\n",
    "\n",
    "def group_fairness(x,y,mapping,norm=1):\n",
    "    \"\"\"\n",
    "    inputs:\n",
    "        x: numpy array with shape (n,m)\n",
    "        y: numpy array with shape (n,m)\n",
    "        mapping: a callable that returns a numeric value\n",
    "        norm: the norm to use for the distance metric\n",
    "    output:\n",
    "        group of group_fairness\n",
    "        D(m(x),m(y)) <= d(x,y)\n",
    "    \"\"\"\n",
    "    group_benefits = []\n",
    "    import numpy as np\n",
    "    for i in range(x.shape[0]):\n",
    "        group_benefits.append(individual_fairness(x[i],y[i],mapping,norm))\n",
    "    return np.array(group_benefits)\n",
    "        "
   ]
  },
  {
   "cell_type": "markdown",
   "metadata": {},
   "source": [
    "2. Disparate treatment"
   ]
  },
  {
   "cell_type": "code",
   "execution_count": null,
   "metadata": {},
   "outputs": [],
   "source": [
    "def disparate_treatment(x, sensitive_attribute, mapper, distance=None):\n",
    "    \"\"\"\n",
    "    x : numpy array with shape (n,m)\n",
    "    sensitive attribute: an attributed we can add to the input x\n",
    "    mapper: a callable that can take the input and return a numeric answer \n",
    "    distance: a callable or integer that can be used to calculate the distance between \n",
    "    the two outputs, if an integer is given we will use norm of that value, if none is \n",
    "    specified we will use the norm of 1\n",
    "    \"\"\"\n",
    "    import numpy as np\n",
    "    y = np.hstack((x,sensitive_attribute))\n",
    "    if distance is None:\n",
    "        distance = 1\n",
    "    if isinstance(distance,int):\n",
    "        distance = lambda x,y: np.linalg.norm(x-y,distance)\n",
    "    return distance(mapper(x),mapper(y))"
   ]
  },
  {
   "cell_type": "markdown",
   "metadata": {},
   "source": [
    "3. Missclassification rates"
   ]
  },
  {
   "cell_type": "code",
   "execution_count": null,
   "metadata": {},
   "outputs": [],
   "source": [
    "def misclassifiction_rate(x,y,model,distance=None):\n",
    "    \"\"\"\n",
    "    x: input data \n",
    "    y: the right labels\n",
    "    model: the model at question\n",
    "    distance: a callable or integer that can be used to calculate the distance between\n",
    "    the two outputs, if an integer is given we will use norm of that value, if none is\n",
    "    specified we will use the norm of 1\n",
    "    \"\"\"\n",
    "    import numpy as np\n",
    "    if distance is None:\n",
    "        distance = 1\n",
    "    if isinstance(distance,int):\n",
    "        distance = lambda x,y: np.linalg.norm(x-y,distance)\n",
    "    return distance(model(x),y)\n",
    "   "
   ]
  },
  {
   "cell_type": "markdown",
   "metadata": {},
   "source": [
    "# "
   ]
  }
 ],
 "metadata": {
  "kernelspec": {
   "display_name": "Python 3.9.10 64-bit",
   "language": "python",
   "name": "python3"
  },
  "language_info": {
   "name": "python",
   "version": "3.10.8"
  },
  "orig_nbformat": 4,
  "vscode": {
   "interpreter": {
    "hash": "b0fa6594d8f4cbf19f97940f81e996739fb7646882a419484c72d19e05852a7e"
   }
  }
 },
 "nbformat": 4,
 "nbformat_minor": 2
}
