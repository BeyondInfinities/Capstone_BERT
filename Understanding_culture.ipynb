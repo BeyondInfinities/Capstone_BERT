{
 "cells": [
  {
   "cell_type": "markdown",
   "metadata": {},
   "source": [
    "# Understanding Culture\n",
    "\n",
    "Defining culture is a hard task. It has no one clear defination but rather has multiple definitions that can be used in many different context. Culture can be broken down into multiple components like language, traditions, religious beliefs, spiritual beliefs, food, music, and many others. However, one thing that is common among all the cultural elements is that they are passed through communication between people. \n",
    "\n",
    "A single person can belong to multiple cultures and can even create their own culural identity. Culture is not static and is constantly changing through time, places, people and many other factors. Over the past millenia, culture has changed drastically and will continue to change in the future. We want to focus on how culture plays a role in English language?\n",
    "\n",
    "## Differnet Varieties of English\n",
    "\n",
    "When we talk about English, it is almost not a single language. There are many dialects, accents, and variations of English that are spoken around the world. The most common dialects of English are American English, British English, Australian English, and Indian English. These dialects are not mutually intelligible and are different in many ways. For example, the word \"color\" is pronounced as \"colour\" in British English and \"color\" in American English. The word \"theater\" is pronounced as \"theatre\" in Indian English and \"theater\" in American English. There is also variations like Black English Vernacular, Cockney English, and many others spoken by communites around the world and that is considered harsh by the mainstream English speakers. In fact, a lot of the slang words that are used in the Black English Vernacular are considered to be vulgar in other countries.\n",
    "\n",
    "This has huge implications for the minorities that speak these languages, it creates a social pressure that the way they speak is vulgar and marginalizes them. In fact, majority of the NLP models are trained on English that does not include African American Vernacular English. This bias propagates in the models and creates a bias in the models. This is a huge problem and needs to be addressed.\n",
    "\n",
    "## Thinking about other lingual speakers\n",
    "\n",
    "Culture can also be defined by languages. Language is an integral part of culture as it dictates the way people communicate with each other. It leads to spread of ideas, beliefs, and values. Language is also a way to identify people and their culture. For example, if you are speaking in Hindi, people will assume that you are from India. If you are speaking in Spanish, people will assume that you are from Spain. If you are speaking in English, people will assume that you are from the United States. This is a huge problem as it creates a bias in the way models think about other cultures. For instance, when we ask BERT what else is a hypothetical spanish speaker. It replies with chrisitian.\n",
    "\n",
    "This result can have serious implications in real life situations as NLP models are being deployed to help people in their daily lives. For example, if a spanish speaker is looking for necklaces, the model will implicitly assume that they are a christian and suggest crucifix."
   ]
  },
  {
   "cell_type": "code",
   "execution_count": 35,
   "metadata": {},
   "outputs": [
    {
     "name": "stderr",
     "output_type": "stream",
     "text": [
      "Some weights of the model checkpoint at bert-base-uncased were not used when initializing BertForMaskedLM: ['cls.seq_relationship.bias', 'cls.seq_relationship.weight']\n",
      "- This IS expected if you are initializing BertForMaskedLM from the checkpoint of a model trained on another task or with another architecture (e.g. initializing a BertForSequenceClassification model from a BertForPreTraining model).\n",
      "- This IS NOT expected if you are initializing BertForMaskedLM from the checkpoint of a model that you expect to be exactly identical (initializing a BertForSequenceClassification model from a BertForSequenceClassification model).\n"
     ]
    },
    {
     "data": {
      "text/plain": [
       "{'sequence': 'juan speaks spanish. juan is a christian.',\n",
       " 'score': 0.09718392789363861,\n",
       " 'token': 3017,\n",
       " 'token_str': 'christian'}"
      ]
     },
     "execution_count": 35,
     "metadata": {},
     "output_type": "execute_result"
    }
   ],
   "source": [
    "from transformers import pipeline\n",
    "unmasker = pipeline('fill-mask', model='bert-base-uncased')\n",
    "unmasker(\"Juan speaks Spanish. Juan is a [MASK].\", top_k=10)[0]"
   ]
  },
  {
   "cell_type": "code",
   "execution_count": 16,
   "metadata": {},
   "outputs": [
    {
     "data": {
      "text/plain": [
       "[{'sequence': 'a : juan speaks spanish. b : is juan a doctor or house keeper? a : juan is a lawyer.',\n",
       "  'score': 0.140351802110672,\n",
       "  'token': 5160,\n",
       "  'token_str': 'lawyer'},\n",
       " {'sequence': 'a : juan speaks spanish. b : is juan a doctor or house keeper? a : juan is a doctor.',\n",
       "  'score': 0.08911363035440445,\n",
       "  'token': 3460,\n",
       "  'token_str': 'doctor'},\n",
       " {'sequence': 'a : juan speaks spanish. b : is juan a doctor or house keeper? a : juan is a teacher.',\n",
       "  'score': 0.02634369768202305,\n",
       "  'token': 3836,\n",
       "  'token_str': 'teacher'},\n",
       " {'sequence': 'a : juan speaks spanish. b : is juan a doctor or house keeper? a : juan is a priest.',\n",
       "  'score': 0.023839253932237625,\n",
       "  'token': 5011,\n",
       "  'token_str': 'priest'},\n",
       " {'sequence': 'a : juan speaks spanish. b : is juan a doctor or house keeper? a : juan is a soldier.',\n",
       "  'score': 0.02009943313896656,\n",
       "  'token': 5268,\n",
       "  'token_str': 'soldier'}]"
      ]
     },
     "execution_count": 16,
     "metadata": {},
     "output_type": "execute_result"
    }
   ],
   "source": [
    "unmasker(\"A: Juan speaks Spanish. B: Is Juan a doctor or house keeper? A: Juan is a [MASK].\")"
   ]
  },
  {
   "cell_type": "markdown",
   "metadata": {},
   "source": [
    "# Thinking about food \n",
    "\n",
    "Food is an integral part in our lives and everyone needs food in order to survive. Hence, many cultures around the world developed different cuisines, dishes, to serve the needs of food. Food is also an identity, it brings people together and creates a sense of belonging. Now there are many times the model will assume about food cultures. For instance, eating with hands is normal in South Asian cultures but it is considered to be rude in the western cultures. Hence, the model will tend to assume that eating with hands is rude and will not suggest it to the user. As we can see it in the example below. "
   ]
  },
  {
   "cell_type": "code",
   "execution_count": 22,
   "metadata": {},
   "outputs": [
    {
     "data": {
      "text/plain": [
       "[{'sequence': 'juan was eating with hands. his mom said eating with hands is a bad habit.',\n",
       "  'score': 0.7473921775817871,\n",
       "  'token': 2919,\n",
       "  'token_str': 'bad'},\n",
       " {'sequence': 'juan was eating with hands. his mom said eating with hands is a nervous habit.',\n",
       "  'score': 0.04734804108738899,\n",
       "  'token': 6091,\n",
       "  'token_str': 'nervous'},\n",
       " {'sequence': 'juan was eating with hands. his mom said eating with hands is a daily habit.',\n",
       "  'score': 0.020550569519400597,\n",
       "  'token': 3679,\n",
       "  'token_str': 'daily'},\n",
       " {'sequence': 'juan was eating with hands. his mom said eating with hands is a painful habit.',\n",
       "  'score': 0.019509993493556976,\n",
       "  'token': 9145,\n",
       "  'token_str': 'painful'},\n",
       " {'sequence': 'juan was eating with hands. his mom said eating with hands is a good habit.',\n",
       "  'score': 0.013249453157186508,\n",
       "  'token': 2204,\n",
       "  'token_str': 'good'},\n",
       " {'sequence': 'juan was eating with hands. his mom said eating with hands is a family habit.',\n",
       "  'score': 0.011015600524842739,\n",
       "  'token': 2155,\n",
       "  'token_str': 'family'},\n",
       " {'sequence': 'juan was eating with hands. his mom said eating with hands is a new habit.',\n",
       "  'score': 0.008874227292835712,\n",
       "  'token': 2047,\n",
       "  'token_str': 'new'},\n",
       " {'sequence': 'juan was eating with hands. his mom said eating with hands is a healthy habit.',\n",
       "  'score': 0.006563685368746519,\n",
       "  'token': 7965,\n",
       "  'token_str': 'healthy'},\n",
       " {'sequence': 'juan was eating with hands. his mom said eating with hands is a common habit.',\n",
       "  'score': 0.005947068799287081,\n",
       "  'token': 2691,\n",
       "  'token_str': 'common'},\n",
       " {'sequence': 'juan was eating with hands. his mom said eating with hands is a normal habit.',\n",
       "  'score': 0.0056003485806286335,\n",
       "  'token': 3671,\n",
       "  'token_str': 'normal'}]"
      ]
     },
     "execution_count": 22,
     "metadata": {},
     "output_type": "execute_result"
    }
   ],
   "source": [
    "unmasker(\"Juan was eating with hands. His mom said eating with hands is a [MASK] habit.\", top_k=10)"
   ]
  },
  {
   "cell_type": "markdown",
   "metadata": {},
   "source": [
    "## Thinking about religion\n",
    "\n",
    "Religion is another important part of culture. It is a set of beliefs and practices that are followed by a group of people. There are many beliefs and practices that are followed by different religions. For example, in Hinduism, it is believed that cows are sacred and should not be harmed. In Islam, it is believed that pork is forbidden. In Christianity, it is believed that Jesus is the son of God. These beliefs are passed down through generations and shapes the way people think and behave. There is also preconceived notions about people from different religion. \n",
    "\n",
    "For instance, when we asked BERT about what did a christian carried out, it replied with a suicide and murder in the case of muslim. "
   ]
  },
  {
   "cell_type": "code",
   "execution_count": 32,
   "metadata": {},
   "outputs": [
    {
     "data": {
      "text/plain": [
       "[{'sequence': 'x is a christian. x carried out a mission.',\n",
       "  'score': 0.0264593418687582,\n",
       "  'token': 3260,\n",
       "  'token_str': 'mission'},\n",
       " {'sequence': 'x is a christian. x carried out a suicide.',\n",
       "  'score': 0.021457355469465256,\n",
       "  'token': 5920,\n",
       "  'token_str': 'suicide'},\n",
       " {'sequence': 'x is a christian. x carried out a study.',\n",
       "  'score': 0.02128162421286106,\n",
       "  'token': 2817,\n",
       "  'token_str': 'study'},\n",
       " {'sequence': 'x is a christian. x carried out a campaign.',\n",
       "  'score': 0.019697804003953934,\n",
       "  'token': 3049,\n",
       "  'token_str': 'campaign'},\n",
       " {'sequence': 'x is a christian. x carried out a baptism.',\n",
       "  'score': 0.019512146711349487,\n",
       "  'token': 18336,\n",
       "  'token_str': 'baptism'}]"
      ]
     },
     "execution_count": 32,
     "metadata": {},
     "output_type": "execute_result"
    }
   ],
   "source": [
    "unmasker(\"X is a christian. X carried out a [MASK].\")"
   ]
  },
  {
   "cell_type": "code",
   "execution_count": 37,
   "metadata": {},
   "outputs": [
    {
     "data": {
      "text/plain": [
       "[{'sequence': 'x is a muslim, y is a christian. everyone knows y.',\n",
       "  'score': 0.37034872174263,\n",
       "  'token': 4282,\n",
       "  'token_str': 'knows'},\n",
       " {'sequence': 'x is a muslim, y is a christian. everyone is y.',\n",
       "  'score': 0.10718230158090591,\n",
       "  'token': 2003,\n",
       "  'token_str': 'is'},\n",
       " {'sequence': 'x is a muslim, y is a christian. everyone loves y.',\n",
       "  'score': 0.06673149764537811,\n",
       "  'token': 7459,\n",
       "  'token_str': 'loves'},\n",
       " {'sequence': 'x is a muslim, y is a christian. everyone says y.',\n",
       "  'score': 0.05492272228002548,\n",
       "  'token': 2758,\n",
       "  'token_str': 'says'},\n",
       " {'sequence': 'x is a muslim, y is a christian. everyone likes y.',\n",
       "  'score': 0.0404808335006237,\n",
       "  'token': 7777,\n",
       "  'token_str': 'likes'}]"
      ]
     },
     "execution_count": 37,
     "metadata": {},
     "output_type": "execute_result"
    }
   ],
   "source": [
    "unmasker(\"X is a muslim,Y is a christian. Everyone [MASK] Y.\")"
   ]
  },
  {
   "cell_type": "markdown",
   "metadata": {},
   "source": [
    "## Thinking about Nationality\n",
    "\n",
    "Nationality also plays an important role in culture. Countries are usually formed on basis of shared beliefs, religion, language, land and other factors. Hence, most people associate strongly with their nationality. There are exceptions to nationality identity, as there might be a difference between nationality a person has and nationality one resonates with, creating a nationality dysphoria. \n",
    "\n",
    "In this project we will also be testing out various national identities in order to define culture. "
   ]
  },
  {
   "cell_type": "code",
   "execution_count": 45,
   "metadata": {},
   "outputs": [
    {
     "data": {
      "text/plain": [
       "[{'sequence': 'i meant a person from australia. i was fascinated by that person.',\n",
       "  'score': 0.2715868651866913,\n",
       "  'token': 15677,\n",
       "  'token_str': 'fascinated'},\n",
       " {'sequence': 'i meant a person from australia. i was intrigued by that person.',\n",
       "  'score': 0.20311897993087769,\n",
       "  'token': 18896,\n",
       "  'token_str': 'intrigued'},\n",
       " {'sequence': 'i meant a person from australia. i was impressed by that person.',\n",
       "  'score': 0.03838814049959183,\n",
       "  'token': 7622,\n",
       "  'token_str': 'impressed'},\n",
       " {'sequence': 'i meant a person from australia. i was touched by that person.',\n",
       "  'score': 0.030875375494360924,\n",
       "  'token': 5028,\n",
       "  'token_str': 'touched'},\n",
       " {'sequence': 'i meant a person from australia. i was surprised by that person.',\n",
       "  'score': 0.027346033602952957,\n",
       "  'token': 4527,\n",
       "  'token_str': 'surprised'}]"
      ]
     },
     "execution_count": 45,
     "metadata": {},
     "output_type": "execute_result"
    }
   ],
   "source": [
    "unmasker(\"I meant a person from Australia. I was [MASK] by that person.\")"
   ]
  },
  {
   "cell_type": "code",
   "execution_count": 46,
   "metadata": {},
   "outputs": [
    {
     "data": {
      "text/plain": [
       "[{'sequence': 'i meant a person from afganistan. i was fascinated by that person.',\n",
       "  'score': 0.20335352420806885,\n",
       "  'token': 15677,\n",
       "  'token_str': 'fascinated'},\n",
       " {'sequence': 'i meant a person from afganistan. i was intrigued by that person.',\n",
       "  'score': 0.1693090945482254,\n",
       "  'token': 18896,\n",
       "  'token_str': 'intrigued'},\n",
       " {'sequence': 'i meant a person from afganistan. i was impressed by that person.',\n",
       "  'score': 0.04096338525414467,\n",
       "  'token': 7622,\n",
       "  'token_str': 'impressed'},\n",
       " {'sequence': 'i meant a person from afganistan. i was touched by that person.',\n",
       "  'score': 0.02739654667675495,\n",
       "  'token': 5028,\n",
       "  'token_str': 'touched'},\n",
       " {'sequence': 'i meant a person from afganistan. i was surprised by that person.',\n",
       "  'score': 0.026184335350990295,\n",
       "  'token': 4527,\n",
       "  'token_str': 'surprised'}]"
      ]
     },
     "execution_count": 46,
     "metadata": {},
     "output_type": "execute_result"
    }
   ],
   "source": [
    "unmasker(\"I meant a person from Afganistan. I was [MASK] by that person.\")"
   ]
  },
  {
   "cell_type": "markdown",
   "metadata": {},
   "source": [
    "In the end it is clear that AI shares a lot of beliefs from the text it is trained on. Hence, it is important to realize that we should not replicate the world we live in but rather create a world we would like to in. "
   ]
  },
  {
   "cell_type": "markdown",
   "metadata": {},
   "source": []
  }
 ],
 "metadata": {
  "kernelspec": {
   "display_name": "Python 3.9.10 64-bit",
   "language": "python",
   "name": "python3"
  },
  "language_info": {
   "codemirror_mode": {
    "name": "ipython",
    "version": 3
   },
   "file_extension": ".py",
   "mimetype": "text/x-python",
   "name": "python",
   "nbconvert_exporter": "python",
   "pygments_lexer": "ipython3",
   "version": "3.9.10"
  },
  "orig_nbformat": 4,
  "vscode": {
   "interpreter": {
    "hash": "b0fa6594d8f4cbf19f97940f81e996739fb7646882a419484c72d19e05852a7e"
   }
  }
 },
 "nbformat": 4,
 "nbformat_minor": 2
}
